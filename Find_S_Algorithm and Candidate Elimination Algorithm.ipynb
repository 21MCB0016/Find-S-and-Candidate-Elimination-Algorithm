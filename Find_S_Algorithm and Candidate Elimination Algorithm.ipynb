{
 "cells": [
  {
   "cell_type": "markdown",
   "id": "49ae5b6d",
   "metadata": {},
   "source": [
    "# Find S Algorithm"
   ]
  },
  {
   "cell_type": "markdown",
   "id": "8ca05b0c",
   "metadata": {},
   "source": [
    "The find-S algorithm is a basic concept for learning algorithm in machine learning. The find-S algorithm finds a very specific hypothesis that equals all good examples. We should note here that the algorithm only looks at those good training examples. The find-S algorithm begins with a highly specific hypothesis and integrates this concept each time it fails to separate the targeted training data. Therefore, the Find-S algorithm goes from a very specific point of view to a very common point of view."
   ]
  },
  {
   "cell_type": "markdown",
   "id": "a41f6816",
   "metadata": {},
   "source": [
    "# Steps"
   ]
  },
  {
   "cell_type": "markdown",
   "id": "af6eea97",
   "metadata": {},
   "source": [
    "1) Start with the most specific hypothesis. \n",
    "\n",
    "2) h = {ϕ, ϕ, ϕ, ϕ, ϕ, ϕ}\n",
    "\n",
    "3) Take the next example and if it is negative, then no changes occur to the hypothesis.\n",
    "\n",
    "4)If the example is positive and we find that our initial hypothesis is too specific then we update our current hypothesis to a general condition.\n",
    "\n",
    "5)Keep repeating the above steps till all the training examples are complete.\n",
    "\n",
    "6)After we have completed all the training examples we will have the final hypothesis when can use to classify the new examples."
   ]
  },
  {
   "cell_type": "code",
   "execution_count": 2,
   "id": "0eec9bb2",
   "metadata": {},
   "outputs": [],
   "source": [
    "import numpy as np\n",
    "import pandas as pd\n",
    "data = pd.read_csv(\"ENJOYSPORT.csv\")"
   ]
  },
  {
   "cell_type": "code",
   "execution_count": 3,
   "id": "e2be856a",
   "metadata": {},
   "outputs": [
    {
     "data": {
      "text/html": [
       "<div>\n",
       "<style scoped>\n",
       "    .dataframe tbody tr th:only-of-type {\n",
       "        vertical-align: middle;\n",
       "    }\n",
       "\n",
       "    .dataframe tbody tr th {\n",
       "        vertical-align: top;\n",
       "    }\n",
       "\n",
       "    .dataframe thead th {\n",
       "        text-align: right;\n",
       "    }\n",
       "</style>\n",
       "<table border=\"1\" class=\"dataframe\">\n",
       "  <thead>\n",
       "    <tr style=\"text-align: right;\">\n",
       "      <th></th>\n",
       "      <th>Sky</th>\n",
       "      <th>AirTemp</th>\n",
       "      <th>Humidity</th>\n",
       "      <th>Wind</th>\n",
       "      <th>Water</th>\n",
       "      <th>Forecast</th>\n",
       "      <th>EnjoySport</th>\n",
       "    </tr>\n",
       "  </thead>\n",
       "  <tbody>\n",
       "    <tr>\n",
       "      <th>0</th>\n",
       "      <td>Sunny</td>\n",
       "      <td>Warm</td>\n",
       "      <td>Normal</td>\n",
       "      <td>Strong</td>\n",
       "      <td>Warm</td>\n",
       "      <td>Same</td>\n",
       "      <td>1</td>\n",
       "    </tr>\n",
       "    <tr>\n",
       "      <th>1</th>\n",
       "      <td>Sunny</td>\n",
       "      <td>Warm</td>\n",
       "      <td>High</td>\n",
       "      <td>Strong</td>\n",
       "      <td>Warm</td>\n",
       "      <td>Same</td>\n",
       "      <td>1</td>\n",
       "    </tr>\n",
       "    <tr>\n",
       "      <th>2</th>\n",
       "      <td>Rainy</td>\n",
       "      <td>Cold</td>\n",
       "      <td>High</td>\n",
       "      <td>Strong</td>\n",
       "      <td>Warm</td>\n",
       "      <td>Change</td>\n",
       "      <td>0</td>\n",
       "    </tr>\n",
       "    <tr>\n",
       "      <th>3</th>\n",
       "      <td>Sunny</td>\n",
       "      <td>Warm</td>\n",
       "      <td>High</td>\n",
       "      <td>Strong</td>\n",
       "      <td>Cool</td>\n",
       "      <td>Change</td>\n",
       "      <td>1</td>\n",
       "    </tr>\n",
       "  </tbody>\n",
       "</table>\n",
       "</div>"
      ],
      "text/plain": [
       "     Sky AirTemp Humidity    Wind Water Forecast  EnjoySport\n",
       "0  Sunny    Warm   Normal  Strong  Warm     Same           1\n",
       "1  Sunny    Warm     High  Strong  Warm     Same           1\n",
       "2  Rainy    Cold     High  Strong  Warm   Change           0\n",
       "3  Sunny    Warm     High  Strong  Cool   Change           1"
      ]
     },
     "execution_count": 3,
     "metadata": {},
     "output_type": "execute_result"
    }
   ],
   "source": [
    "data.head()"
   ]
  },
  {
   "cell_type": "code",
   "execution_count": 4,
   "id": "f251fee1",
   "metadata": {},
   "outputs": [],
   "source": [
    "concepts = np.array(data)[:,:-1]"
   ]
  },
  {
   "cell_type": "code",
   "execution_count": 5,
   "id": "ba8d73ef",
   "metadata": {},
   "outputs": [
    {
     "data": {
      "text/plain": [
       "array([['Sunny', 'Warm', 'Normal', 'Strong', 'Warm', 'Same'],\n",
       "       ['Sunny', 'Warm', 'High', 'Strong', 'Warm', 'Same'],\n",
       "       ['Rainy', 'Cold', 'High', 'Strong', 'Warm', 'Change'],\n",
       "       ['Sunny', 'Warm', 'High', 'Strong', 'Cool', 'Change']],\n",
       "      dtype=object)"
      ]
     },
     "execution_count": 5,
     "metadata": {},
     "output_type": "execute_result"
    }
   ],
   "source": [
    "concepts"
   ]
  },
  {
   "cell_type": "code",
   "execution_count": 6,
   "id": "4dff11a8",
   "metadata": {},
   "outputs": [],
   "source": [
    "target = np.array(data)[:,-1]"
   ]
  },
  {
   "cell_type": "code",
   "execution_count": 7,
   "id": "169894d2",
   "metadata": {},
   "outputs": [
    {
     "data": {
      "text/plain": [
       "array([1, 1, 0, 1], dtype=object)"
      ]
     },
     "execution_count": 7,
     "metadata": {},
     "output_type": "execute_result"
    }
   ],
   "source": [
    "target"
   ]
  },
  {
   "cell_type": "code",
   "execution_count": 8,
   "id": "723bbe73",
   "metadata": {},
   "outputs": [],
   "source": [
    "def train(con, tar):\n",
    "    for i, val in enumerate(tar):\n",
    "        if val == 1:\n",
    "            specific_h = con[i].copy()\n",
    "            break\n",
    "            \n",
    "    for i, val in enumerate(con):\n",
    "        if tar[i] == 1:\n",
    "            for x in range(len(specific_h)):\n",
    "                if val[x] != specific_h[x]:\n",
    "                    specific_h[x] = '?'\n",
    "                else:\n",
    "                    pass\n",
    "    return specific_h"
   ]
  },
  {
   "cell_type": "code",
   "execution_count": 9,
   "id": "9e3ca28d",
   "metadata": {},
   "outputs": [
    {
     "name": "stdout",
     "output_type": "stream",
     "text": [
      "['Sunny' 'Warm' '?' 'Strong' '?' '?']\n"
     ]
    }
   ],
   "source": [
    "print(train(concepts, target))"
   ]
  },
  {
   "cell_type": "markdown",
   "id": "4b64b871",
   "metadata": {},
   "source": [
    "# Candidate Elimination Algorithm"
   ]
  },
  {
   "cell_type": "markdown",
   "id": "48034b52",
   "metadata": {},
   "source": [
    "The candidate termination algorithm is increasingly creating a version space that is given space for hypothesis H and set E of examples. Examples are added one by one; each example reduces translation space by removing ideas that do not fit the model. The candidate termination algorithm does this by updating the standard and exact limit for each new model."
   ]
  },
  {
   "cell_type": "markdown",
   "id": "3b1e5df4",
   "metadata": {},
   "source": [
    "You can view this as an extended Find-S algorithm.\n",
    "Consider both good and bad examples.\n",
    "In fact, good examples are used here as the Find-S algorithm (In fact it includes from specifications).\n",
    "While a bad example is mentioned in the standard form."
   ]
  },
  {
   "cell_type": "markdown",
   "id": "5683eb3e",
   "metadata": {},
   "source": [
    "# Algorithm"
   ]
  },
  {
   "cell_type": "markdown",
   "id": "7af690cb",
   "metadata": {},
   "source": [
    "G :maximally general hypotheses in H\n",
    "\n",
    "S :maximally specific hypotheses in H\n",
    "\n",
    "For each training example d=<x,c(x)>\n",
    "\n",
    "Case 1 : If d is a positive example\n",
    "         Remove from G any hypothesis that is inconsistent with d\n",
    "         For each hypothesis s in S that is not consistent with d\n",
    "            Remove s from S.\n",
    "            Add to S all minimal generalizations h of s such that h consistent with d\n",
    "            Some member of G is more general than h\n",
    "          Remove from S any hypothesis that is more general than another hypothesis in S\n",
    "\n",
    "Case 2: If d is a negative example\n",
    "        Remove from S any hypothesis that is inconsistent with d\n",
    "        For each hypothesis g in G that is not consistent with d\n",
    "          Remove g from G.\n",
    "          Add to G all minimal specializations h of g such that h consistent with d\n",
    "        Some member of S is more specific than h\n",
    "        Remove from G any hypothesis that is less general than another hypothesis in G"
   ]
  },
  {
   "cell_type": "code",
   "execution_count": 10,
   "id": "4e138fbc",
   "metadata": {},
   "outputs": [
    {
     "name": "stdout",
     "output_type": "stream",
     "text": [
      "\n",
      "Initialization of specific_h and genearal_h\n",
      "\n",
      "Specific Boundary:  ['Sunny' 'Warm' 'Normal' 'Strong' 'Warm' 'Same']\n",
      "\n",
      "Generic Boundary:  [['?', '?', '?', '?', '?', '?'], ['?', '?', '?', '?', '?', '?'], ['?', '?', '?', '?', '?', '?'], ['?', '?', '?', '?', '?', '?'], ['?', '?', '?', '?', '?', '?'], ['?', '?', '?', '?', '?', '?']]\n",
      "\n",
      "Instance 1 is  ['Sunny' 'Warm' 'Normal' 'Strong' 'Warm' 'Same']\n",
      "Instance is Positive \n",
      "Specific Bundary after  1 Instance is  ['Sunny' 'Warm' 'Normal' 'Strong' 'Warm' 'Same']\n",
      "Generic Boundary after  1 Instance is  [['?', '?', '?', '?', '?', '?'], ['?', '?', '?', '?', '?', '?'], ['?', '?', '?', '?', '?', '?'], ['?', '?', '?', '?', '?', '?'], ['?', '?', '?', '?', '?', '?'], ['?', '?', '?', '?', '?', '?']]\n",
      "\n",
      "\n",
      "\n",
      "Instance 2 is  ['Sunny' 'Warm' 'High' 'Strong' 'Warm' 'Same']\n",
      "Instance is Positive \n",
      "Specific Bundary after  2 Instance is  ['Sunny' 'Warm' '?' 'Strong' 'Warm' 'Same']\n",
      "Generic Boundary after  2 Instance is  [['?', '?', '?', '?', '?', '?'], ['?', '?', '?', '?', '?', '?'], ['?', '?', '?', '?', '?', '?'], ['?', '?', '?', '?', '?', '?'], ['?', '?', '?', '?', '?', '?'], ['?', '?', '?', '?', '?', '?']]\n",
      "\n",
      "\n",
      "\n",
      "Instance 3 is  ['Rainy' 'Cold' 'High' 'Strong' 'Warm' 'Change']\n",
      "Instance is Negative \n",
      "Specific Bundary after  3 Instance is  ['Sunny' 'Warm' '?' 'Strong' 'Warm' 'Same']\n",
      "Generic Boundary after  3 Instance is  [['Sunny', '?', '?', '?', '?', '?'], ['?', 'Warm', '?', '?', '?', '?'], ['?', '?', '?', '?', '?', '?'], ['?', '?', '?', '?', '?', '?'], ['?', '?', '?', '?', '?', '?'], ['?', '?', '?', '?', '?', 'Same']]\n",
      "\n",
      "\n",
      "\n",
      "Instance 4 is  ['Sunny' 'Warm' 'High' 'Strong' 'Cool' 'Change']\n",
      "Instance is Positive \n",
      "Specific Bundary after  4 Instance is  ['Sunny' 'Warm' '?' 'Strong' '?' '?']\n",
      "Generic Boundary after  4 Instance is  [['Sunny', '?', '?', '?', '?', '?'], ['?', 'Warm', '?', '?', '?', '?'], ['?', '?', '?', '?', '?', '?'], ['?', '?', '?', '?', '?', '?'], ['?', '?', '?', '?', '?', '?'], ['?', '?', '?', '?', '?', '?']]\n",
      "\n",
      "\n",
      "Final Specific_h: \n",
      "['Sunny' 'Warm' '?' 'Strong' '?' '?']\n",
      "Final General_h: \n",
      "[['Sunny', '?', '?', '?', '?', '?'], ['?', 'Warm', '?', '?', '?', '?']]\n"
     ]
    }
   ],
   "source": [
    "def learn(concepts, target): \n",
    "    specific_h = concepts[0].copy()\n",
    "    print(\"\\nInitialization of specific_h and genearal_h\")\n",
    "    print(\"\\nSpecific Boundary: \", specific_h)\n",
    "    general_h = [[\"?\" for i in range(len(specific_h))] for i in range(len(specific_h))]\n",
    "    print(\"\\nGeneric Boundary: \",general_h)  \n",
    "\n",
    "    for i, h in enumerate(concepts):\n",
    "        print(\"\\nInstance\", i+1 , \"is \", h)\n",
    "        if target[i] == 1:\n",
    "            print(\"Instance is Positive \")\n",
    "            for x in range(len(specific_h)): \n",
    "                if h[x]!= specific_h[x]:                    \n",
    "                    specific_h[x] ='?'                     \n",
    "                    general_h[x][x] ='?'\n",
    "                   \n",
    "        if target[i] == 0:            \n",
    "            print(\"Instance is Negative \")\n",
    "            for x in range(len(specific_h)): \n",
    "                if h[x]!= specific_h[x]:                    \n",
    "                    general_h[x][x] = specific_h[x]                \n",
    "                else:                    \n",
    "                    general_h[x][x] = '?'        \n",
    "        \n",
    "        print(\"Specific Bundary after \", i+1, \"Instance is \", specific_h)         \n",
    "        print(\"Generic Boundary after \", i+1, \"Instance is \", general_h)\n",
    "        print(\"\\n\")\n",
    "\n",
    "    indices = [i for i, val in enumerate(general_h) if val == ['?', '?', '?', '?', '?', '?']]    \n",
    "    for i in indices:   \n",
    "        general_h.remove(['?', '?', '?', '?', '?', '?']) \n",
    "    return specific_h, general_h \n",
    "\n",
    "s_final, g_final = learn(concepts, target)\n",
    "\n",
    "print(\"Final Specific_h: \", s_final, sep=\"\\n\")\n",
    "print(\"Final General_h: \", g_final, sep=\"\\n\")"
   ]
  }
 ],
 "metadata": {
  "kernelspec": {
   "display_name": "Python 3",
   "language": "python",
   "name": "python3"
  },
  "language_info": {
   "codemirror_mode": {
    "name": "ipython",
    "version": 3
   },
   "file_extension": ".py",
   "mimetype": "text/x-python",
   "name": "python",
   "nbconvert_exporter": "python",
   "pygments_lexer": "ipython3",
   "version": "3.8.8"
  }
 },
 "nbformat": 4,
 "nbformat_minor": 5
}
